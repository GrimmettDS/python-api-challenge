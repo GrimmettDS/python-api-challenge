{
 "cells": [
  {
   "cell_type": "markdown",
   "metadata": {},
   "source": [
    "# VacationPy\n",
    "----\n",
    "\n",
    "#### Note\n",
    "* Keep an eye on your API usage. Use https://developers.google.com/maps/reporting/gmp-reporting as reference for how to monitor your usage and billing.\n",
    "\n",
    "* Instructions have been included for each segment. You do not have to follow them exactly, but they are included to help you think through the steps."
   ]
  },
  {
   "cell_type": "markdown",
   "metadata": {},
   "source": [
    "<b>Dependencies and Setup</b>"
   ]
  },
  {
   "cell_type": "code",
   "execution_count": 1,
   "metadata": {},
   "outputs": [],
   "source": [
    "import matplotlib.pyplot as plt\n",
    "import pandas as pd\n",
    "import numpy as np\n",
    "import requests\n",
    "import gmaps\n",
    "import os"
   ]
  },
  {
   "cell_type": "markdown",
   "metadata": {},
   "source": [
    "<b>Import API key</b>"
   ]
  },
  {
   "cell_type": "code",
   "execution_count": 2,
   "metadata": {},
   "outputs": [],
   "source": [
    "from config import g_key"
   ]
  },
  {
   "cell_type": "markdown",
   "metadata": {},
   "source": [
    "### Store Part I results into DataFrame\n",
    "* Load the csv exported in Part I to a DataFrame"
   ]
  },
  {
   "cell_type": "code",
   "execution_count": 3,
   "metadata": {},
   "outputs": [],
   "source": [
    "weather_file = \"../WeatherPy/WeatherOutput/city_weather_main.csv\""
   ]
  },
  {
   "cell_type": "code",
   "execution_count": 4,
   "metadata": {},
   "outputs": [
    {
     "data": {
      "text/html": [
       "<div>\n",
       "<style scoped>\n",
       "    .dataframe tbody tr th:only-of-type {\n",
       "        vertical-align: middle;\n",
       "    }\n",
       "\n",
       "    .dataframe tbody tr th {\n",
       "        vertical-align: top;\n",
       "    }\n",
       "\n",
       "    .dataframe thead th {\n",
       "        text-align: right;\n",
       "    }\n",
       "</style>\n",
       "<table border=\"1\" class=\"dataframe\">\n",
       "  <thead>\n",
       "    <tr style=\"text-align: right;\">\n",
       "      <th></th>\n",
       "      <th>City</th>\n",
       "      <th>Country</th>\n",
       "      <th>Latitude</th>\n",
       "      <th>Longitude</th>\n",
       "      <th>Cloudiness</th>\n",
       "      <th>Date</th>\n",
       "      <th>Wind</th>\n",
       "      <th>Humidity</th>\n",
       "      <th>Max Temp</th>\n",
       "    </tr>\n",
       "  </thead>\n",
       "  <tbody>\n",
       "    <tr>\n",
       "      <th>0</th>\n",
       "      <td>Ushuaia</td>\n",
       "      <td>AR</td>\n",
       "      <td>-54.80</td>\n",
       "      <td>-68.30</td>\n",
       "      <td>75</td>\n",
       "      <td>1608321285</td>\n",
       "      <td>5.75</td>\n",
       "      <td>66</td>\n",
       "      <td>50.00</td>\n",
       "    </tr>\n",
       "    <tr>\n",
       "      <th>1</th>\n",
       "      <td>Qaanaaq</td>\n",
       "      <td>GL</td>\n",
       "      <td>77.48</td>\n",
       "      <td>-69.36</td>\n",
       "      <td>88</td>\n",
       "      <td>1608321358</td>\n",
       "      <td>2.51</td>\n",
       "      <td>87</td>\n",
       "      <td>0.88</td>\n",
       "    </tr>\n",
       "    <tr>\n",
       "      <th>2</th>\n",
       "      <td>San Vicente</td>\n",
       "      <td>AR</td>\n",
       "      <td>-26.62</td>\n",
       "      <td>-54.13</td>\n",
       "      <td>44</td>\n",
       "      <td>1608321733</td>\n",
       "      <td>2.13</td>\n",
       "      <td>40</td>\n",
       "      <td>89.02</td>\n",
       "    </tr>\n",
       "    <tr>\n",
       "      <th>3</th>\n",
       "      <td>Yellowknife</td>\n",
       "      <td>CA</td>\n",
       "      <td>62.46</td>\n",
       "      <td>-114.35</td>\n",
       "      <td>20</td>\n",
       "      <td>1608321330</td>\n",
       "      <td>3.36</td>\n",
       "      <td>64</td>\n",
       "      <td>-41.80</td>\n",
       "    </tr>\n",
       "    <tr>\n",
       "      <th>4</th>\n",
       "      <td>East London</td>\n",
       "      <td>ZA</td>\n",
       "      <td>-33.02</td>\n",
       "      <td>27.91</td>\n",
       "      <td>100</td>\n",
       "      <td>1608321491</td>\n",
       "      <td>12.66</td>\n",
       "      <td>90</td>\n",
       "      <td>70.07</td>\n",
       "    </tr>\n",
       "  </tbody>\n",
       "</table>\n",
       "</div>"
      ],
      "text/plain": [
       "          City Country  Latitude  Longitude  Cloudiness        Date   Wind  \\\n",
       "0      Ushuaia      AR    -54.80     -68.30          75  1608321285   5.75   \n",
       "1      Qaanaaq      GL     77.48     -69.36          88  1608321358   2.51   \n",
       "2  San Vicente      AR    -26.62     -54.13          44  1608321733   2.13   \n",
       "3  Yellowknife      CA     62.46    -114.35          20  1608321330   3.36   \n",
       "4  East London      ZA    -33.02      27.91         100  1608321491  12.66   \n",
       "\n",
       "   Humidity  Max Temp  \n",
       "0        66     50.00  \n",
       "1        87      0.88  \n",
       "2        40     89.02  \n",
       "3        64    -41.80  \n",
       "4        90     70.07  "
      ]
     },
     "execution_count": 4,
     "metadata": {},
     "output_type": "execute_result"
    }
   ],
   "source": [
    "city_weather_df = pd.read_csv(weather_file)\n",
    "city_weather_df.head()"
   ]
  },
  {
   "cell_type": "markdown",
   "metadata": {},
   "source": [
    "### Humidity Heatmap"
   ]
  },
  {
   "cell_type": "markdown",
   "metadata": {},
   "source": [
    "<b>Configure gmaps</b>"
   ]
  },
  {
   "cell_type": "code",
   "execution_count": 5,
   "metadata": {},
   "outputs": [],
   "source": [
    "gmaps.configure(api_key=g_key)"
   ]
  },
  {
   "cell_type": "markdown",
   "metadata": {},
   "source": [
    "<b>Use the Lat and Lng as locations and Humidity as the weight.</b>"
   ]
  },
  {
   "cell_type": "code",
   "execution_count": 6,
   "metadata": {},
   "outputs": [],
   "source": [
    "locations = city_weather_df[['Latitude', 'Longitude']]\n",
    "\n",
    "rating = city_weather_df['Humidity'].astype(float)"
   ]
  },
  {
   "cell_type": "markdown",
   "metadata": {},
   "source": [
    "<b>Add Heatmap layer to map</b>"
   ]
  },
  {
   "cell_type": "code",
   "execution_count": 8,
   "metadata": {
    "scrolled": true
   },
   "outputs": [
    {
     "data": {
      "application/vnd.jupyter.widget-view+json": {
       "model_id": "0bb95e4f6adf4e41a69ed5ee72d84f6d",
       "version_major": 2,
       "version_minor": 0
      },
      "text/plain": [
       "Figure(layout=FigureLayout(height='420px'))"
      ]
     },
     "metadata": {},
     "output_type": "display_data"
    }
   ],
   "source": [
    "# Adding Heatmap coding\n",
    "\n",
    "fig = gmaps.figure()\n",
    "\n",
    "heat_layer = gmaps.heatmap_layer(locations, weights=rating, \n",
    "                                 dissipating=False, max_intensity=100,\n",
    "                                 point_radius=1)\n",
    "\n",
    "fig.add_layer(heat_layer)\n",
    "\n",
    "fig"
   ]
  },
  {
   "cell_type": "markdown",
   "metadata": {},
   "source": [
    "### Create new DataFrame fitting weather criteria"
   ]
  },
  {
   "cell_type": "markdown",
   "metadata": {},
   "source": [
    "<b>Narrow down the cities to fit weather conditions.</b>"
   ]
  },
  {
   "cell_type": "code",
   "execution_count": 9,
   "metadata": {},
   "outputs": [
    {
     "data": {
      "text/html": [
       "<div>\n",
       "<style scoped>\n",
       "    .dataframe tbody tr th:only-of-type {\n",
       "        vertical-align: middle;\n",
       "    }\n",
       "\n",
       "    .dataframe tbody tr th {\n",
       "        vertical-align: top;\n",
       "    }\n",
       "\n",
       "    .dataframe thead th {\n",
       "        text-align: right;\n",
       "    }\n",
       "</style>\n",
       "<table border=\"1\" class=\"dataframe\">\n",
       "  <thead>\n",
       "    <tr style=\"text-align: right;\">\n",
       "      <th></th>\n",
       "      <th>City</th>\n",
       "      <th>Country</th>\n",
       "      <th>Latitude</th>\n",
       "      <th>Longitude</th>\n",
       "      <th>Cloudiness</th>\n",
       "      <th>Date</th>\n",
       "      <th>Wind</th>\n",
       "      <th>Humidity</th>\n",
       "      <th>Max Temp</th>\n",
       "    </tr>\n",
       "  </thead>\n",
       "  <tbody>\n",
       "    <tr>\n",
       "      <th>67</th>\n",
       "      <td>Saint-Philippe</td>\n",
       "      <td>RE</td>\n",
       "      <td>-21.36</td>\n",
       "      <td>55.77</td>\n",
       "      <td>0</td>\n",
       "      <td>1608321358</td>\n",
       "      <td>2.24</td>\n",
       "      <td>83</td>\n",
       "      <td>75.2</td>\n",
       "    </tr>\n",
       "    <tr>\n",
       "      <th>81</th>\n",
       "      <td>Pisco</td>\n",
       "      <td>PE</td>\n",
       "      <td>-13.70</td>\n",
       "      <td>-76.22</td>\n",
       "      <td>0</td>\n",
       "      <td>1608321267</td>\n",
       "      <td>9.17</td>\n",
       "      <td>69</td>\n",
       "      <td>73.4</td>\n",
       "    </tr>\n",
       "    <tr>\n",
       "      <th>188</th>\n",
       "      <td>Dakar</td>\n",
       "      <td>SN</td>\n",
       "      <td>14.69</td>\n",
       "      <td>-17.44</td>\n",
       "      <td>0</td>\n",
       "      <td>1608321824</td>\n",
       "      <td>9.17</td>\n",
       "      <td>88</td>\n",
       "      <td>71.6</td>\n",
       "    </tr>\n",
       "    <tr>\n",
       "      <th>274</th>\n",
       "      <td>Alibag</td>\n",
       "      <td>IN</td>\n",
       "      <td>18.64</td>\n",
       "      <td>72.88</td>\n",
       "      <td>0</td>\n",
       "      <td>1608321779</td>\n",
       "      <td>3.36</td>\n",
       "      <td>69</td>\n",
       "      <td>78.8</td>\n",
       "    </tr>\n",
       "    <tr>\n",
       "      <th>282</th>\n",
       "      <td>Oussouye</td>\n",
       "      <td>SN</td>\n",
       "      <td>12.48</td>\n",
       "      <td>-16.55</td>\n",
       "      <td>0</td>\n",
       "      <td>1608321872</td>\n",
       "      <td>4.70</td>\n",
       "      <td>57</td>\n",
       "      <td>78.8</td>\n",
       "    </tr>\n",
       "    <tr>\n",
       "      <th>317</th>\n",
       "      <td>Saint-Joseph</td>\n",
       "      <td>RE</td>\n",
       "      <td>-21.37</td>\n",
       "      <td>55.62</td>\n",
       "      <td>0</td>\n",
       "      <td>1608321878</td>\n",
       "      <td>2.24</td>\n",
       "      <td>83</td>\n",
       "      <td>75.2</td>\n",
       "    </tr>\n",
       "    <tr>\n",
       "      <th>495</th>\n",
       "      <td>Saint-Pierre</td>\n",
       "      <td>RE</td>\n",
       "      <td>-21.34</td>\n",
       "      <td>55.48</td>\n",
       "      <td>0</td>\n",
       "      <td>1608321973</td>\n",
       "      <td>2.24</td>\n",
       "      <td>83</td>\n",
       "      <td>75.2</td>\n",
       "    </tr>\n",
       "  </tbody>\n",
       "</table>\n",
       "</div>"
      ],
      "text/plain": [
       "               City Country  Latitude  Longitude  Cloudiness        Date  \\\n",
       "67   Saint-Philippe      RE    -21.36      55.77           0  1608321358   \n",
       "81            Pisco      PE    -13.70     -76.22           0  1608321267   \n",
       "188           Dakar      SN     14.69     -17.44           0  1608321824   \n",
       "274          Alibag      IN     18.64      72.88           0  1608321779   \n",
       "282        Oussouye      SN     12.48     -16.55           0  1608321872   \n",
       "317    Saint-Joseph      RE    -21.37      55.62           0  1608321878   \n",
       "495    Saint-Pierre      RE    -21.34      55.48           0  1608321973   \n",
       "\n",
       "     Wind  Humidity  Max Temp  \n",
       "67   2.24        83      75.2  \n",
       "81   9.17        69      73.4  \n",
       "188  9.17        88      71.6  \n",
       "274  3.36        69      78.8  \n",
       "282  4.70        57      78.8  \n",
       "317  2.24        83      75.2  \n",
       "495  2.24        83      75.2  "
      ]
     },
     "execution_count": 9,
     "metadata": {},
     "output_type": "execute_result"
    }
   ],
   "source": [
    "# I used the given conditions of between 70 & 80 degrees, less the 10 mph and 0& humidity.\n",
    "\n",
    "perfect_weather_df = city_weather_df\n",
    "\n",
    "perfect_weather_df = perfect_weather_df.loc[(perfect_weather_df[\"Max Temp\"] < 80) &\n",
    "                                           (perfect_weather_df['Max Temp'] > 70)]\n",
    "\n",
    "perfect_weather_df = perfect_weather_df.loc[perfect_weather_df[\"Wind\"] < 10]\n",
    "                                            \n",
    "perfect_weather_df = perfect_weather_df.loc[perfect_weather_df[\"Cloudiness\"] == 0]\n",
    "                                            \n",
    "perfect_weather_df"
   ]
  },
  {
   "cell_type": "markdown",
   "metadata": {},
   "source": [
    "<b>Drop any rows will null values.</b>"
   ]
  },
  {
   "cell_type": "code",
   "execution_count": 10,
   "metadata": {},
   "outputs": [],
   "source": [
    "# Skipping as there are no null columns"
   ]
  },
  {
   "cell_type": "markdown",
   "metadata": {},
   "source": [
    "### Hotel Map"
   ]
  },
  {
   "cell_type": "markdown",
   "metadata": {},
   "source": [
    "<b>Store into variable named `hotel_df`.</b>"
   ]
  },
  {
   "cell_type": "code",
   "execution_count": 11,
   "metadata": {},
   "outputs": [
    {
     "data": {
      "text/html": [
       "<div>\n",
       "<style scoped>\n",
       "    .dataframe tbody tr th:only-of-type {\n",
       "        vertical-align: middle;\n",
       "    }\n",
       "\n",
       "    .dataframe tbody tr th {\n",
       "        vertical-align: top;\n",
       "    }\n",
       "\n",
       "    .dataframe thead th {\n",
       "        text-align: right;\n",
       "    }\n",
       "</style>\n",
       "<table border=\"1\" class=\"dataframe\">\n",
       "  <thead>\n",
       "    <tr style=\"text-align: right;\">\n",
       "      <th></th>\n",
       "      <th>City</th>\n",
       "      <th>Country</th>\n",
       "      <th>Latitude</th>\n",
       "      <th>Longitude</th>\n",
       "      <th>Cloudiness</th>\n",
       "      <th>Date</th>\n",
       "      <th>Wind</th>\n",
       "      <th>Humidity</th>\n",
       "      <th>Max Temp</th>\n",
       "    </tr>\n",
       "  </thead>\n",
       "  <tbody>\n",
       "    <tr>\n",
       "      <th>67</th>\n",
       "      <td>Saint-Philippe</td>\n",
       "      <td>RE</td>\n",
       "      <td>-21.36</td>\n",
       "      <td>55.77</td>\n",
       "      <td>0</td>\n",
       "      <td>1608321358</td>\n",
       "      <td>2.24</td>\n",
       "      <td>83</td>\n",
       "      <td>75.2</td>\n",
       "    </tr>\n",
       "    <tr>\n",
       "      <th>81</th>\n",
       "      <td>Pisco</td>\n",
       "      <td>PE</td>\n",
       "      <td>-13.70</td>\n",
       "      <td>-76.22</td>\n",
       "      <td>0</td>\n",
       "      <td>1608321267</td>\n",
       "      <td>9.17</td>\n",
       "      <td>69</td>\n",
       "      <td>73.4</td>\n",
       "    </tr>\n",
       "    <tr>\n",
       "      <th>188</th>\n",
       "      <td>Dakar</td>\n",
       "      <td>SN</td>\n",
       "      <td>14.69</td>\n",
       "      <td>-17.44</td>\n",
       "      <td>0</td>\n",
       "      <td>1608321824</td>\n",
       "      <td>9.17</td>\n",
       "      <td>88</td>\n",
       "      <td>71.6</td>\n",
       "    </tr>\n",
       "    <tr>\n",
       "      <th>274</th>\n",
       "      <td>Alibag</td>\n",
       "      <td>IN</td>\n",
       "      <td>18.64</td>\n",
       "      <td>72.88</td>\n",
       "      <td>0</td>\n",
       "      <td>1608321779</td>\n",
       "      <td>3.36</td>\n",
       "      <td>69</td>\n",
       "      <td>78.8</td>\n",
       "    </tr>\n",
       "    <tr>\n",
       "      <th>282</th>\n",
       "      <td>Oussouye</td>\n",
       "      <td>SN</td>\n",
       "      <td>12.48</td>\n",
       "      <td>-16.55</td>\n",
       "      <td>0</td>\n",
       "      <td>1608321872</td>\n",
       "      <td>4.70</td>\n",
       "      <td>57</td>\n",
       "      <td>78.8</td>\n",
       "    </tr>\n",
       "    <tr>\n",
       "      <th>317</th>\n",
       "      <td>Saint-Joseph</td>\n",
       "      <td>RE</td>\n",
       "      <td>-21.37</td>\n",
       "      <td>55.62</td>\n",
       "      <td>0</td>\n",
       "      <td>1608321878</td>\n",
       "      <td>2.24</td>\n",
       "      <td>83</td>\n",
       "      <td>75.2</td>\n",
       "    </tr>\n",
       "    <tr>\n",
       "      <th>495</th>\n",
       "      <td>Saint-Pierre</td>\n",
       "      <td>RE</td>\n",
       "      <td>-21.34</td>\n",
       "      <td>55.48</td>\n",
       "      <td>0</td>\n",
       "      <td>1608321973</td>\n",
       "      <td>2.24</td>\n",
       "      <td>83</td>\n",
       "      <td>75.2</td>\n",
       "    </tr>\n",
       "  </tbody>\n",
       "</table>\n",
       "</div>"
      ],
      "text/plain": [
       "               City Country  Latitude  Longitude  Cloudiness        Date  \\\n",
       "67   Saint-Philippe      RE    -21.36      55.77           0  1608321358   \n",
       "81            Pisco      PE    -13.70     -76.22           0  1608321267   \n",
       "188           Dakar      SN     14.69     -17.44           0  1608321824   \n",
       "274          Alibag      IN     18.64      72.88           0  1608321779   \n",
       "282        Oussouye      SN     12.48     -16.55           0  1608321872   \n",
       "317    Saint-Joseph      RE    -21.37      55.62           0  1608321878   \n",
       "495    Saint-Pierre      RE    -21.34      55.48           0  1608321973   \n",
       "\n",
       "     Wind  Humidity  Max Temp  \n",
       "67   2.24        83      75.2  \n",
       "81   9.17        69      73.4  \n",
       "188  9.17        88      71.6  \n",
       "274  3.36        69      78.8  \n",
       "282  4.70        57      78.8  \n",
       "317  2.24        83      75.2  \n",
       "495  2.24        83      75.2  "
      ]
     },
     "execution_count": 11,
     "metadata": {},
     "output_type": "execute_result"
    }
   ],
   "source": [
    "# DataFrame should need not change other than the name\n",
    "\n",
    "hotel_df = perfect_weather_df\n",
    "hotel_df"
   ]
  },
  {
   "cell_type": "markdown",
   "metadata": {},
   "source": [
    "<b>Add a \"Hotel Name\" column to the DataFrame.</b>"
   ]
  },
  {
   "cell_type": "code",
   "execution_count": 12,
   "metadata": {},
   "outputs": [
    {
     "data": {
      "text/html": [
       "<div>\n",
       "<style scoped>\n",
       "    .dataframe tbody tr th:only-of-type {\n",
       "        vertical-align: middle;\n",
       "    }\n",
       "\n",
       "    .dataframe tbody tr th {\n",
       "        vertical-align: top;\n",
       "    }\n",
       "\n",
       "    .dataframe thead th {\n",
       "        text-align: right;\n",
       "    }\n",
       "</style>\n",
       "<table border=\"1\" class=\"dataframe\">\n",
       "  <thead>\n",
       "    <tr style=\"text-align: right;\">\n",
       "      <th></th>\n",
       "      <th>City</th>\n",
       "      <th>Country</th>\n",
       "      <th>Latitude</th>\n",
       "      <th>Longitude</th>\n",
       "      <th>Cloudiness</th>\n",
       "      <th>Date</th>\n",
       "      <th>Wind</th>\n",
       "      <th>Humidity</th>\n",
       "      <th>Max Temp</th>\n",
       "      <th>Hotel Name</th>\n",
       "    </tr>\n",
       "  </thead>\n",
       "  <tbody>\n",
       "    <tr>\n",
       "      <th>67</th>\n",
       "      <td>Saint-Philippe</td>\n",
       "      <td>RE</td>\n",
       "      <td>-21.36</td>\n",
       "      <td>55.77</td>\n",
       "      <td>0</td>\n",
       "      <td>1608321358</td>\n",
       "      <td>2.24</td>\n",
       "      <td>83</td>\n",
       "      <td>75.2</td>\n",
       "      <td></td>\n",
       "    </tr>\n",
       "    <tr>\n",
       "      <th>81</th>\n",
       "      <td>Pisco</td>\n",
       "      <td>PE</td>\n",
       "      <td>-13.70</td>\n",
       "      <td>-76.22</td>\n",
       "      <td>0</td>\n",
       "      <td>1608321267</td>\n",
       "      <td>9.17</td>\n",
       "      <td>69</td>\n",
       "      <td>73.4</td>\n",
       "      <td></td>\n",
       "    </tr>\n",
       "    <tr>\n",
       "      <th>188</th>\n",
       "      <td>Dakar</td>\n",
       "      <td>SN</td>\n",
       "      <td>14.69</td>\n",
       "      <td>-17.44</td>\n",
       "      <td>0</td>\n",
       "      <td>1608321824</td>\n",
       "      <td>9.17</td>\n",
       "      <td>88</td>\n",
       "      <td>71.6</td>\n",
       "      <td></td>\n",
       "    </tr>\n",
       "    <tr>\n",
       "      <th>274</th>\n",
       "      <td>Alibag</td>\n",
       "      <td>IN</td>\n",
       "      <td>18.64</td>\n",
       "      <td>72.88</td>\n",
       "      <td>0</td>\n",
       "      <td>1608321779</td>\n",
       "      <td>3.36</td>\n",
       "      <td>69</td>\n",
       "      <td>78.8</td>\n",
       "      <td></td>\n",
       "    </tr>\n",
       "    <tr>\n",
       "      <th>282</th>\n",
       "      <td>Oussouye</td>\n",
       "      <td>SN</td>\n",
       "      <td>12.48</td>\n",
       "      <td>-16.55</td>\n",
       "      <td>0</td>\n",
       "      <td>1608321872</td>\n",
       "      <td>4.70</td>\n",
       "      <td>57</td>\n",
       "      <td>78.8</td>\n",
       "      <td></td>\n",
       "    </tr>\n",
       "    <tr>\n",
       "      <th>317</th>\n",
       "      <td>Saint-Joseph</td>\n",
       "      <td>RE</td>\n",
       "      <td>-21.37</td>\n",
       "      <td>55.62</td>\n",
       "      <td>0</td>\n",
       "      <td>1608321878</td>\n",
       "      <td>2.24</td>\n",
       "      <td>83</td>\n",
       "      <td>75.2</td>\n",
       "      <td></td>\n",
       "    </tr>\n",
       "    <tr>\n",
       "      <th>495</th>\n",
       "      <td>Saint-Pierre</td>\n",
       "      <td>RE</td>\n",
       "      <td>-21.34</td>\n",
       "      <td>55.48</td>\n",
       "      <td>0</td>\n",
       "      <td>1608321973</td>\n",
       "      <td>2.24</td>\n",
       "      <td>83</td>\n",
       "      <td>75.2</td>\n",
       "      <td></td>\n",
       "    </tr>\n",
       "  </tbody>\n",
       "</table>\n",
       "</div>"
      ],
      "text/plain": [
       "               City Country  Latitude  Longitude  Cloudiness        Date  \\\n",
       "67   Saint-Philippe      RE    -21.36      55.77           0  1608321358   \n",
       "81            Pisco      PE    -13.70     -76.22           0  1608321267   \n",
       "188           Dakar      SN     14.69     -17.44           0  1608321824   \n",
       "274          Alibag      IN     18.64      72.88           0  1608321779   \n",
       "282        Oussouye      SN     12.48     -16.55           0  1608321872   \n",
       "317    Saint-Joseph      RE    -21.37      55.62           0  1608321878   \n",
       "495    Saint-Pierre      RE    -21.34      55.48           0  1608321973   \n",
       "\n",
       "     Wind  Humidity  Max Temp Hotel Name  \n",
       "67   2.24        83      75.2             \n",
       "81   9.17        69      73.4             \n",
       "188  9.17        88      71.6             \n",
       "274  3.36        69      78.8             \n",
       "282  4.70        57      78.8             \n",
       "317  2.24        83      75.2             \n",
       "495  2.24        83      75.2             "
      ]
     },
     "execution_count": 12,
     "metadata": {},
     "output_type": "execute_result"
    }
   ],
   "source": [
    "# Created blank column for the hotel names\n",
    "\n",
    "hotel_df['Hotel Name'] = \"\"\n",
    "hotel_df"
   ]
  },
  {
   "cell_type": "markdown",
   "metadata": {},
   "source": [
    "<b>Set parameters to search for hotels with 5000 meters.</b>"
   ]
  },
  {
   "cell_type": "code",
   "execution_count": 13,
   "metadata": {},
   "outputs": [],
   "source": [
    "params = {'radius': 5000, 'types': 'lodging', 'key': g_key, 'keyword': 'hotel'}"
   ]
  },
  {
   "cell_type": "markdown",
   "metadata": {},
   "source": [
    "<b>Hit the Google Places API for each city's coordinates.</b>"
   ]
  },
  {
   "cell_type": "code",
   "execution_count": 14,
   "metadata": {},
   "outputs": [
    {
     "name": "stdout",
     "output_type": "stream",
     "text": [
      "The closest hotel to Saint-Philippe is Les Embruns Du Baril.\n",
      "------------------------------\n",
      "The closest hotel to Pisco is HOSTAL MIRAMAR.\n",
      "------------------------------\n",
      "The closest hotel to Dakar is Pullman Dakar Teranga.\n",
      "------------------------------\n",
      "The closest hotel to Alibag is Radisson Blu Resort & Spa - Alibaug, India.\n",
      "------------------------------\n",
      "The closest hotel to Oussouye is Auberge du Routard.\n",
      "------------------------------\n",
      "The closest hotel to Saint-Joseph is Village Sauvage.\n",
      "------------------------------\n",
      "The closest hotel to Saint-Pierre is Le Battant Des Lames.\n",
      "------------------------------\n"
     ]
    }
   ],
   "source": [
    "# Creating for loop to gather API informatation\n",
    "\n",
    "for index, row in hotel_df.iterrows():\n",
    "    latitude = row['Latitude']\n",
    "    longitude = row['Longitude']\n",
    "    city = row['City']\n",
    "    \n",
    "    params['location'] = f'{latitude},{longitude}'\n",
    "    \n",
    "    google_url = \"https://maps.googleapis.com/maps/api/place/nearbysearch/json\"\n",
    "    \n",
    "    response = requests.get(google_url, params=params).json()\n",
    "    \n",
    "    hotel_data = response['results']\n",
    "    hotel_name = hotel_data[0]['name']\n",
    "    \n",
    "    try:\n",
    "        print(f'The closest hotel to {city} is {hotel_name}.')\n",
    "        #print(f\"The Closest hotel is {results[0]['name']}.\")\n",
    "        hotel_df.loc[index, 'Hotel Name'] = hotel_data[0]['name']\n",
    "\n",
    "    except:\n",
    "        print(\"Missing data...Skipping.\")\n",
    "        \n",
    "    print('------------------------------')\n",
    "    \n",
    "    #hotel_data\n",
    "        "
   ]
  },
  {
   "cell_type": "code",
   "execution_count": 15,
   "metadata": {},
   "outputs": [
    {
     "data": {
      "text/html": [
       "<div>\n",
       "<style scoped>\n",
       "    .dataframe tbody tr th:only-of-type {\n",
       "        vertical-align: middle;\n",
       "    }\n",
       "\n",
       "    .dataframe tbody tr th {\n",
       "        vertical-align: top;\n",
       "    }\n",
       "\n",
       "    .dataframe thead th {\n",
       "        text-align: right;\n",
       "    }\n",
       "</style>\n",
       "<table border=\"1\" class=\"dataframe\">\n",
       "  <thead>\n",
       "    <tr style=\"text-align: right;\">\n",
       "      <th></th>\n",
       "      <th>City</th>\n",
       "      <th>Country</th>\n",
       "      <th>Latitude</th>\n",
       "      <th>Longitude</th>\n",
       "      <th>Cloudiness</th>\n",
       "      <th>Date</th>\n",
       "      <th>Wind</th>\n",
       "      <th>Humidity</th>\n",
       "      <th>Max Temp</th>\n",
       "      <th>Hotel Name</th>\n",
       "    </tr>\n",
       "  </thead>\n",
       "  <tbody>\n",
       "    <tr>\n",
       "      <th>67</th>\n",
       "      <td>Saint-Philippe</td>\n",
       "      <td>RE</td>\n",
       "      <td>-21.36</td>\n",
       "      <td>55.77</td>\n",
       "      <td>0</td>\n",
       "      <td>1608321358</td>\n",
       "      <td>2.24</td>\n",
       "      <td>83</td>\n",
       "      <td>75.2</td>\n",
       "      <td>Les Embruns Du Baril</td>\n",
       "    </tr>\n",
       "    <tr>\n",
       "      <th>81</th>\n",
       "      <td>Pisco</td>\n",
       "      <td>PE</td>\n",
       "      <td>-13.70</td>\n",
       "      <td>-76.22</td>\n",
       "      <td>0</td>\n",
       "      <td>1608321267</td>\n",
       "      <td>9.17</td>\n",
       "      <td>69</td>\n",
       "      <td>73.4</td>\n",
       "      <td>HOSTAL MIRAMAR</td>\n",
       "    </tr>\n",
       "    <tr>\n",
       "      <th>188</th>\n",
       "      <td>Dakar</td>\n",
       "      <td>SN</td>\n",
       "      <td>14.69</td>\n",
       "      <td>-17.44</td>\n",
       "      <td>0</td>\n",
       "      <td>1608321824</td>\n",
       "      <td>9.17</td>\n",
       "      <td>88</td>\n",
       "      <td>71.6</td>\n",
       "      <td>Pullman Dakar Teranga</td>\n",
       "    </tr>\n",
       "    <tr>\n",
       "      <th>274</th>\n",
       "      <td>Alibag</td>\n",
       "      <td>IN</td>\n",
       "      <td>18.64</td>\n",
       "      <td>72.88</td>\n",
       "      <td>0</td>\n",
       "      <td>1608321779</td>\n",
       "      <td>3.36</td>\n",
       "      <td>69</td>\n",
       "      <td>78.8</td>\n",
       "      <td>Radisson Blu Resort &amp; Spa - Alibaug, India</td>\n",
       "    </tr>\n",
       "    <tr>\n",
       "      <th>282</th>\n",
       "      <td>Oussouye</td>\n",
       "      <td>SN</td>\n",
       "      <td>12.48</td>\n",
       "      <td>-16.55</td>\n",
       "      <td>0</td>\n",
       "      <td>1608321872</td>\n",
       "      <td>4.70</td>\n",
       "      <td>57</td>\n",
       "      <td>78.8</td>\n",
       "      <td>Auberge du Routard</td>\n",
       "    </tr>\n",
       "    <tr>\n",
       "      <th>317</th>\n",
       "      <td>Saint-Joseph</td>\n",
       "      <td>RE</td>\n",
       "      <td>-21.37</td>\n",
       "      <td>55.62</td>\n",
       "      <td>0</td>\n",
       "      <td>1608321878</td>\n",
       "      <td>2.24</td>\n",
       "      <td>83</td>\n",
       "      <td>75.2</td>\n",
       "      <td>Village Sauvage</td>\n",
       "    </tr>\n",
       "    <tr>\n",
       "      <th>495</th>\n",
       "      <td>Saint-Pierre</td>\n",
       "      <td>RE</td>\n",
       "      <td>-21.34</td>\n",
       "      <td>55.48</td>\n",
       "      <td>0</td>\n",
       "      <td>1608321973</td>\n",
       "      <td>2.24</td>\n",
       "      <td>83</td>\n",
       "      <td>75.2</td>\n",
       "      <td>Le Battant Des Lames</td>\n",
       "    </tr>\n",
       "  </tbody>\n",
       "</table>\n",
       "</div>"
      ],
      "text/plain": [
       "               City Country  Latitude  Longitude  Cloudiness        Date  \\\n",
       "67   Saint-Philippe      RE    -21.36      55.77           0  1608321358   \n",
       "81            Pisco      PE    -13.70     -76.22           0  1608321267   \n",
       "188           Dakar      SN     14.69     -17.44           0  1608321824   \n",
       "274          Alibag      IN     18.64      72.88           0  1608321779   \n",
       "282        Oussouye      SN     12.48     -16.55           0  1608321872   \n",
       "317    Saint-Joseph      RE    -21.37      55.62           0  1608321878   \n",
       "495    Saint-Pierre      RE    -21.34      55.48           0  1608321973   \n",
       "\n",
       "     Wind  Humidity  Max Temp                                  Hotel Name  \n",
       "67   2.24        83      75.2                        Les Embruns Du Baril  \n",
       "81   9.17        69      73.4                              HOSTAL MIRAMAR  \n",
       "188  9.17        88      71.6                       Pullman Dakar Teranga  \n",
       "274  3.36        69      78.8  Radisson Blu Resort & Spa - Alibaug, India  \n",
       "282  4.70        57      78.8                          Auberge du Routard  \n",
       "317  2.24        83      75.2                             Village Sauvage  \n",
       "495  2.24        83      75.2                        Le Battant Des Lames  "
      ]
     },
     "execution_count": 15,
     "metadata": {},
     "output_type": "execute_result"
    }
   ],
   "source": [
    "#Checking DataFrame to make sure hotels added\n",
    "\n",
    "hotel_df"
   ]
  },
  {
   "cell_type": "markdown",
   "metadata": {},
   "source": [
    "<b>NOTE: Do not change any of the code in this cell<br>\n",
    "Using the template add the hotel marks to the heatmap</b>"
   ]
  },
  {
   "cell_type": "code",
   "execution_count": 16,
   "metadata": {},
   "outputs": [],
   "source": [
    "info_box_template = \"\"\"\n",
    "<dl>\n",
    "<dt>Name</dt><dd>{Hotel Name}</dd>\n",
    "<dt>City</dt><dd>{City}</dd>\n",
    "<dt>Country</dt><dd>{Country}</dd>\n",
    "</dl>\n",
    "\"\"\"\n",
    "# Store the DataFrame Row\n",
    "# NOTE: be sure to update with your DataFrame name\n",
    "hotel_info = [info_box_template.format(**row) for index, row in hotel_df.iterrows()]\n",
    "locations = hotel_df[[\"Latitude\", \"Longitude\"]]"
   ]
  },
  {
   "cell_type": "markdown",
   "metadata": {},
   "source": [
    "<b>Add marker layer on top of heat map</b>"
   ]
  },
  {
   "cell_type": "code",
   "execution_count": 19,
   "metadata": {},
   "outputs": [],
   "source": [
    "fig = gmaps.figure(map_type=\"HYBRID\")\n",
    "markers = gmaps.marker_layer(locations, info_box_content=hotel_info)\n",
    "fig.add_layer(heat_layer)\n",
    "fig.add_layer(markers)"
   ]
  },
  {
   "cell_type": "markdown",
   "metadata": {},
   "source": [
    "<b>Display figure.</b>"
   ]
  },
  {
   "cell_type": "code",
   "execution_count": 20,
   "metadata": {},
   "outputs": [
    {
     "data": {
      "application/vnd.jupyter.widget-view+json": {
       "model_id": "99b0a8df921a4230983d58bac9afe55c",
       "version_major": 2,
       "version_minor": 0
      },
      "text/plain": [
       "Figure(layout=FigureLayout(height='420px'))"
      ]
     },
     "metadata": {},
     "output_type": "display_data"
    }
   ],
   "source": [
    "fig"
   ]
  },
  {
   "cell_type": "code",
   "execution_count": null,
   "metadata": {},
   "outputs": [],
   "source": []
  }
 ],
 "metadata": {
  "kernelspec": {
   "display_name": "Python 3",
   "language": "python",
   "name": "python3"
  },
  "language_info": {
   "codemirror_mode": {
    "name": "ipython",
    "version": 3
   },
   "file_extension": ".py",
   "mimetype": "text/x-python",
   "name": "python",
   "nbconvert_exporter": "python",
   "pygments_lexer": "ipython3",
   "version": "3.6.10"
  }
 },
 "nbformat": 4,
 "nbformat_minor": 4
}
